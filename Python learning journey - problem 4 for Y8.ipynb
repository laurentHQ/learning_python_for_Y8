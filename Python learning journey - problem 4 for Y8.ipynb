{
 "cells": [
  {
   "cell_type": "markdown",
   "id": "39819857",
   "metadata": {},
   "source": [
    "# The Emoji Pet Simulator 🐾\n",
    "# Introduction to Python Classes and Game Development\n",
    "\n",
    "## Welcome Pet Developer! \n",
    "\n",
    "In this lesson, we'll create a virtual pet that you can interact with! You'll learn how to create a simple game where your pet has different needs and moods. Let's build this step by step!\n",
    "\n",
    "### What We'll Learn:\n",
    "1. How to create a class in Python\n",
    "2. How to track different values (stats)\n",
    "3. How to use emojis in Python\n",
    "4. How to create an interactive game loop\n",
    "\n",
    "## Step 1: Creating Our Pet Class 🐱\n",
    "\n",
    "First, let's create a simple version of our pet:"
   ]
  },
  {
   "cell_type": "code",
   "execution_count": null,
   "id": "b772a307",
   "metadata": {},
   "outputs": [],
   "source": [
    "class SimplePet:\n",
    "    def __init__(self, name):\n",
    "        self.name = name\n",
    "        self.happiness = 50\n",
    "    \n",
    "    def pet(self):\n",
    "        self.happiness += 10\n",
    "        return f\"{self.name} is happy! 😊\"\n",
    "\n",
    "# Let's create our first pet!\n",
    "my_pet = SimplePet(\"Fluffy\")\n",
    "print(f\"Pet name: {my_pet.name}\")\n",
    "print(f\"Happiness level: {my_pet.happiness}\")\n",
    "print(my_pet.pet())"
   ]
  },
  {
   "cell_type": "markdown",
   "id": "478da23a",
   "metadata": {},
   "source": [
    "### 🤔 Try It Yourself!\n",
    "Create your own pet with a different name. Try petting it multiple times!"
   ]
  },
  {
   "cell_type": "code",
   "execution_count": null,
   "id": "5dec2abe",
   "metadata": {},
   "outputs": [],
   "source": [
    "# Create your own pet here\n",
    "your_pet = SimplePet(\"Choose a name\")\n",
    "# Try some interactions"
   ]
  },
  {
   "cell_type": "markdown",
   "id": "9e4f2af8",
   "metadata": {},
   "source": [
    "## Step 2: Adding More Features 🌟\n",
    "\n",
    "Now let's make our pet more interesting by adding more stats and actions:"
   ]
  },
  {
   "cell_type": "code",
   "execution_count": null,
   "id": "001ce0ed",
   "metadata": {},
   "outputs": [],
   "source": [
    "class BetterPet:\n",
    "    def __init__(self, name):\n",
    "        self.name = name\n",
    "        self.hunger = 50\n",
    "        self.happiness = 50\n",
    "        self.energy = 50\n",
    "    \n",
    "    def get_status(self):\n",
    "        return f\"\"\"\n",
    "        {self.name}'s Status:\n",
    "        Hunger: {self.hunger}\n",
    "        Happiness: {self.happiness}\n",
    "        Energy: {self.energy}\n",
    "        \"\"\"\n",
    "    \n",
    "    def feed(self):\n",
    "        self.hunger -= 20\n",
    "        self.energy += 10\n",
    "        self.hunger = max(0, self.hunger)\n",
    "        self.energy = min(100, self.energy)\n",
    "        return f\"{self.name} enjoys the food! 😋\"\n",
    "    \n",
    "    def play(self):\n",
    "        self.happiness += 20\n",
    "        self.energy -= 10\n",
    "        self.hunger += 10\n",
    "        self.happiness = min(100, self.happiness)\n",
    "        self.energy = max(0, self.energy)\n",
    "        self.hunger = min(100, self.hunger)\n",
    "        return f\"{self.name} had fun playing! 🤗\"\n",
    "\n",
    "# Let's try our better pet\n",
    "pet = BetterPet(\"Buddy\")\n",
    "print(pet.get_status())\n",
    "print(pet.feed())\n",
    "print(pet.play())\n",
    "print(pet.get_status())"
   ]
  },
  {
   "cell_type": "markdown",
   "id": "8b4a0a20",
   "metadata": {},
   "source": [
    "### 🎯 Mini Challenge\n",
    "Can you modify the BetterPet class to:\n",
    "1. Add a sleep action\n",
    "2. Make sure stats stay between 0 and 100\n",
    "3. Add a new stat of your choice"
   ]
  },
  {
   "cell_type": "code",
   "execution_count": null,
   "id": "bc05463b",
   "metadata": {},
   "outputs": [],
   "source": [
    "# Your improved pet class here\n",
    "class YourPet:\n",
    "    def __init__(self, name):\n",
    "        # Add your code here\n",
    "        pass"
   ]
  },
  {
   "cell_type": "markdown",
   "id": "a4312954",
   "metadata": {},
   "source": [
    "## Step 3: Adding Moods With Emojis 😊\n",
    "\n",
    "Let's make our pet more expressive by adding different moods:"
   ]
  },
  {
   "cell_type": "code",
   "execution_count": null,
   "id": "827a6b1a",
   "metadata": {},
   "outputs": [],
   "source": [
    "class MoodyPet:\n",
    "    def __init__(self, name):\n",
    "        self.name = name\n",
    "        self.hunger = 50\n",
    "        self.happiness = 50\n",
    "        self.energy = 50\n",
    "        self.moods = {\n",
    "            'happy': '😊',\n",
    "            'sad': '😢',\n",
    "            'hungry': '😋',\n",
    "            'tired': '😴',\n",
    "            'excited': '🤗'\n",
    "        }\n",
    "    \n",
    "    def get_mood(self):\n",
    "        if self.hunger > 70:\n",
    "            return self.moods['hungry']\n",
    "        elif self.energy < 30:\n",
    "            return self.moods['tired']\n",
    "        elif self.happiness > 70:\n",
    "            return self.moods['excited']\n",
    "        elif self.happiness < 30:\n",
    "            return self.moods['sad']\n",
    "        return self.moods['happy']\n",
    "    \n",
    "    def get_status(self):\n",
    "        return f\"\"\"\n",
    "        {self.name} is feeling {self.get_mood()}\n",
    "        Hunger: {self.hunger}\n",
    "        Happiness: {self.happiness}\n",
    "        Energy: {self.energy}\n",
    "        \"\"\"\n",
    "\n",
    "# Test our moody pet\n",
    "moody_pet = MoodyPet(\"Grumpy\")\n",
    "print(moody_pet.get_status())"
   ]
  },
  {
   "cell_type": "markdown",
   "id": "60873d80",
   "metadata": {},
   "source": [
    "### 🌟 Your Turn - Add More Moods!\n",
    "Add more moods and conditions to your pet:"
   ]
  },
  {
   "cell_type": "code",
   "execution_count": null,
   "id": "ad9d13c5",
   "metadata": {},
   "outputs": [],
   "source": [
    "class CustomPet(MoodyPet):\n",
    "    def __init__(self, name):\n",
    "        super().__init__(name)\n",
    "        # Add more moods here\n",
    "        self.moods.update({\n",
    "            'super_happy': '🥳',\n",
    "            # Add more!\n",
    "        })\n",
    "    \n",
    "    def get_mood(self):\n",
    "        # Add your custom mood logic here\n",
    "        return super().get_mood()\n",
    "\n",
    "# Test your custom pet\n",
    "your_pet = CustomPet(\"Name\")\n",
    "print(your_pet.get_status())"
   ]
  },
  {
   "cell_type": "markdown",
   "id": "792503b6",
   "metadata": {},
   "source": [
    "## Step 4: Creating the Game Loop 🎮\n",
    "\n",
    "Now let's put it all together into a playable game:"
   ]
  },
  {
   "cell_type": "code",
   "execution_count": null,
   "id": "85c279cd",
   "metadata": {},
   "outputs": [],
   "source": [
    "def play_pet_game():\n",
    "    print(\"Welcome to the Virtual Pet Simulator! 🐾\")\n",
    "    name = input(\"What would you like to name your pet? \")\n",
    "    pet = MoodyPet(name)\n",
    "    \n",
    "    while True:\n",
    "        print(\"\\n\" + \"=\"*30)\n",
    "        print(pet.get_status())\n",
    "        \n",
    "        action = input(\"\"\"\n",
    "        What would you like to do?\n",
    "        1. Feed\n",
    "        2. Play\n",
    "        3. Quit\n",
    "        Your choice: \"\"\")\n",
    "        \n",
    "        if action == \"1\":\n",
    "            print(pet.feed())\n",
    "        elif action == \"2\":\n",
    "            print(pet.play())\n",
    "        elif action == \"3\":\n",
    "            print(f\"Goodbye! Take care of {pet.name}!\")\n",
    "            break\n",
    "        else:\n",
    "            print(\"Invalid choice! Try again.\")\n",
    "\n",
    "# Let's play!\n",
    "play_pet_game()"
   ]
  },
  {
   "cell_type": "markdown",
   "id": "05e554fa",
   "metadata": {},
   "source": [
    "### 🎨 Creative Challenge\n",
    "Enhance the game with these features:\n",
    "1. Add more actions\n",
    "2. Create random events\n",
    "3. Add a scoring system\n",
    "4. Make it multiplayer"
   ]
  },
  {
   "cell_type": "code",
   "execution_count": null,
   "id": "290e1db8",
   "metadata": {},
   "outputs": [],
   "source": [
    "# Your enhanced game here\n",
    "def your_awesome_pet_game():\n",
    "    # Add your improvements here\n",
    "    pass"
   ]
  },
  {
   "cell_type": "markdown",
   "id": "b0b9a5b3",
   "metadata": {},
   "source": [
    "## Final Challenge: Pet Competition! 🏆\n",
    "\n",
    "Create a pet show where multiple pets compete based on their stats:"
   ]
  },
  {
   "cell_type": "code",
   "execution_count": null,
   "id": "2fa9477c",
   "metadata": {},
   "outputs": [],
   "source": [
    "def pet_competition():\n",
    "    pets = []\n",
    "    \n",
    "    # Create pets\n",
    "    num_pets = int(input(\"How many pets in the competition? \"))\n",
    "    for i in range(num_pets):\n",
    "        name = input(f\"Name for pet {i+1}: \")\n",
    "        pets.append(MoodyPet(name))\n",
    "    \n",
    "    # Competition rounds\n",
    "    rounds = ['Happiness Contest', 'Energy Race', 'Trick Competition']\n",
    "    \n",
    "    for round_name in rounds:\n",
    "        print(f\"\\n=== {round_name} ===\")\n",
    "        # Add competition logic here\n",
    "        \n",
    "        # Example scoring\n",
    "        for pet in pets:\n",
    "            pet.happiness += random.randint(-10, 10)\n",
    "            pet.energy -= random.randint(5, 15)\n",
    "            print(f\"{pet.name}: {pet.get_mood()}\")\n",
    "\n",
    "# Run the competition\n",
    "import random\n",
    "pet_competition()"
   ]
  },
  {
   "cell_type": "markdown",
   "id": "796cc144",
   "metadata": {},
   "source": [
    "## Congratulations! 🎉\n",
    "\n",
    "You've completed the Virtual Pet Simulator! You can now:\n",
    "- Create classes with properties and methods\n",
    "- Track and modify object states\n",
    "- Use emojis for visual feedback\n",
    "- Create interactive game loops\n",
    "- Build complex game mechanics\n",
    "\n",
    "Keep experimenting with your pet simulator! Try adding new features and sharing your creations with friends!"
   ]
  }
 ],
 "metadata": {
  "jupytext": {
   "cell_metadata_filter": "-all",
   "main_language": "python",
   "notebook_metadata_filter": "-all"
  }
 },
 "nbformat": 4,
 "nbformat_minor": 5
}
