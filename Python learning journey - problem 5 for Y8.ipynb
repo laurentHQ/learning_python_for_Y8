{
 "cells": [
  {
   "cell_type": "markdown",
   "id": "ba6ac5aa",
   "metadata": {},
   "source": [
    "# The Code Breaker's Challenge 🔐\n",
    "# Introduction to Cryptography with Python\n",
    "\n",
    "## Welcome Code Breaker! \n",
    "\n",
    "In this lesson, we'll learn how to create and break secret codes using Python. You'll discover how to encrypt and decrypt messages, just like real cryptographers! Let's begin our mission!\n",
    "\n",
    "### What We'll Learn:\n",
    "1. How to create simple ciphers\n",
    "2. How to encrypt and decrypt messages\n",
    "3. How to work with character mappings\n",
    "4. How to create secure communication systems\n",
    "\n",
    "## Step 1: Understanding Simple Substitution 🔄\n",
    "\n",
    "First, let's learn about the simplest form of encryption - shifting letters:"
   ]
  },
  {
   "cell_type": "code",
   "execution_count": null,
   "id": "d9202c93",
   "metadata": {},
   "outputs": [],
   "source": [
    "# The alphabet we'll use\n",
    "alphabet = 'ABCDEFGHIJKLMNOPQRSTUVWXYZ'\n",
    "\n",
    "# Let's see what happens when we shift letters\n",
    "shift = 3  # This is the famous Caesar Cipher shift!\n",
    "shifted_alphabet = alphabet[shift:] + alphabet[:shift]\n",
    "\n",
    "print(\"Regular alphabet:\", alphabet)\n",
    "print(\"Shifted alphabet:\", shifted_alphabet)\n",
    "\n",
    "# Let's see how letters match up\n",
    "for regular, shifted in zip(alphabet[:5], shifted_alphabet[:5]):\n",
    "    print(f\"{regular} becomes {shifted}\")"
   ]
  },
  {
   "cell_type": "markdown",
   "id": "b8e0aeee",
   "metadata": {},
   "source": [
    "### 🤔 Try It Yourself!\n",
    "Try different shift values and see what happens:"
   ]
  },
  {
   "cell_type": "code",
   "execution_count": null,
   "id": "245c7070",
   "metadata": {},
   "outputs": [],
   "source": [
    "# Try your own shift value\n",
    "your_shift = 1  # Change this number\n",
    "shifted = alphabet[your_shift:] + alphabet[:your_shift]\n",
    "\n",
    "print(\"Original:\", alphabet)\n",
    "print(\"Shifted: \", shifted)"
   ]
  },
  {
   "cell_type": "markdown",
   "id": "0c972d63",
   "metadata": {},
   "source": [
    "## Step 2: Creating Our First Cipher 🔑\n",
    "\n",
    "Now let's create a function to encrypt single letters:"
   ]
  },
  {
   "cell_type": "code",
   "execution_count": null,
   "id": "2a97915a",
   "metadata": {},
   "outputs": [],
   "source": [
    "def create_cipher_dict(shift):\n",
    "    \"\"\"Create a dictionary mapping regular letters to shifted letters\"\"\"\n",
    "    alphabet = 'ABCDEFGHIJKLMNOPQRSTUVWXYZ'\n",
    "    shifted = alphabet[shift:] + alphabet[:shift]\n",
    "    \n",
    "    # Create the encryption dictionary\n",
    "    cipher_dict = {}\n",
    "    for regular, shifted_letter in zip(alphabet, shifted):\n",
    "        cipher_dict[regular] = shifted_letter\n",
    "    \n",
    "    return cipher_dict\n",
    "\n",
    "# Let's test our cipher\n",
    "cipher = create_cipher_dict(3)\n",
    "print(\"With shift of 3:\")\n",
    "print(\"A becomes:\", cipher['A'])\n",
    "print(\"B becomes:\", cipher['B'])\n",
    "print(\"Z becomes:\", cipher['Z'])"
   ]
  },
  {
   "cell_type": "markdown",
   "id": "ec2fffa0",
   "metadata": {},
   "source": [
    "### 🎯 Mini Challenge\n",
    "Create a function to encrypt a single word:"
   ]
  },
  {
   "cell_type": "code",
   "execution_count": null,
   "id": "5f6ae4d8",
   "metadata": {},
   "outputs": [],
   "source": [
    "def encrypt_word(word, cipher_dict):\n",
    "    # Convert word to uppercase\n",
    "    word = word.upper()\n",
    "    \n",
    "    # Encrypt each letter\n",
    "    encrypted = ''\n",
    "    for letter in word:\n",
    "        if letter in cipher_dict:\n",
    "            encrypted += cipher_dict[letter]\n",
    "        else:\n",
    "            encrypted += letter\n",
    "    \n",
    "    return encrypted\n",
    "\n",
    "# Test your function\n",
    "test_cipher = create_cipher_dict(3)\n",
    "test_word = \"HELLO\"\n",
    "encrypted = encrypt_word(test_word, test_cipher)\n",
    "print(f\"Original word: {test_word}\")\n",
    "print(f\"Encrypted word: {encrypted}\")"
   ]
  },
  {
   "cell_type": "markdown",
   "id": "c0af3902",
   "metadata": {},
   "source": [
    "## Step 3: Complete Encryption and Decryption 🔒\n",
    "\n",
    "Let's create functions to handle complete messages:"
   ]
  },
  {
   "cell_type": "code",
   "execution_count": null,
   "id": "767334ca",
   "metadata": {},
   "outputs": [],
   "source": [
    "def create_cipher(shift):\n",
    "    \"\"\"Create both encryption and decryption dictionaries\"\"\"\n",
    "    alphabet = 'ABCDEFGHIJKLMNOPQRSTUVWXYZ'\n",
    "    shifted = alphabet[shift:] + alphabet[:shift]\n",
    "    \n",
    "    # Create encryption dictionary\n",
    "    encrypt_dict = dict(zip(alphabet, shifted))\n",
    "    # Create decryption dictionary\n",
    "    decrypt_dict = dict(zip(shifted, alphabet))\n",
    "    \n",
    "    return encrypt_dict, decrypt_dict\n",
    "\n",
    "def encrypt_message(message, cipher_dict):\n",
    "    \"\"\"Encrypt an entire message\"\"\"\n",
    "    message = message.upper()\n",
    "    encrypted = ''\n",
    "    \n",
    "    for char in message:\n",
    "        if char in cipher_dict:\n",
    "            encrypted += cipher_dict[char]\n",
    "        else:\n",
    "            encrypted += char\n",
    "    \n",
    "    return encrypted\n",
    "\n",
    "def decrypt_message(encrypted_message, decipher_dict):\n",
    "    \"\"\"Decrypt an encrypted message\"\"\"\n",
    "    decrypted = ''\n",
    "    \n",
    "    for char in encrypted_message:\n",
    "        if char in decipher_dict:\n",
    "            decrypted += decipher_dict[char]\n",
    "        else:\n",
    "            decrypted += char\n",
    "    \n",
    "    return decrypted\n",
    "\n",
    "# Let's test our complete system\n",
    "shift = 3\n",
    "encrypt_dict, decrypt_dict = create_cipher(shift)\n",
    "\n",
    "message = \"HELLO WORLD!\"\n",
    "encrypted = encrypt_message(message, encrypt_dict)\n",
    "decrypted = decrypt_message(encrypted, decrypt_dict)\n",
    "\n",
    "print(f\"Original: {message}\")\n",
    "print(f\"Encrypted: {encrypted}\")\n",
    "print(f\"Decrypted: {decrypted}\")"
   ]
  },
  {
   "cell_type": "markdown",
   "id": "0928c99f",
   "metadata": {},
   "source": [
    "### 🌟 Your Turn - Create a Message System!\n",
    "Try encrypting and decrypting your own messages:"
   ]
  },
  {
   "cell_type": "code",
   "execution_count": null,
   "id": "99b8c2b3",
   "metadata": {},
   "outputs": [],
   "source": [
    "# Your secret messaging system\n",
    "shift = int(input(\"Choose a secret shift number (1-25): \"))\n",
    "encrypt_dict, decrypt_dict = create_cipher(shift)\n",
    "\n",
    "# Encrypt a message\n",
    "secret = input(\"Enter your secret message: \")\n",
    "coded = encrypt_message(secret, encrypt_dict)\n",
    "print(f\"Encrypted message: {coded}\")\n",
    "\n",
    "# Try to decrypt it\n",
    "decoded = decrypt_message(coded, decrypt_dict)\n",
    "print(f\"Decrypted message: {decoded}\")"
   ]
  },
  {
   "cell_type": "markdown",
   "id": "7a15181f",
   "metadata": {},
   "source": [
    "## Step 4: Advanced Ciphers 🚀\n",
    "\n",
    "Let's create a more complex cipher that uses random substitution:"
   ]
  },
  {
   "cell_type": "code",
   "execution_count": null,
   "id": "f94ddb1a",
   "metadata": {},
   "outputs": [],
   "source": [
    "import random\n",
    "\n",
    "def create_random_cipher():\n",
    "    \"\"\"Create a cipher with random letter substitution\"\"\"\n",
    "    alphabet = list('ABCDEFGHIJKLMNOPQRSTUVWXYZ')\n",
    "    shuffled = alphabet.copy()\n",
    "    random.shuffle(shuffled)\n",
    "    \n",
    "    encrypt_dict = dict(zip(alphabet, shuffled))\n",
    "    decrypt_dict = dict(zip(shuffled, alphabet))\n",
    "    \n",
    "    return encrypt_dict, decrypt_dict\n",
    "\n",
    "# Test the random cipher\n",
    "encrypt_dict, decrypt_dict = create_random_cipher()\n",
    "\n",
    "# Show the random mappings\n",
    "print(\"Random cipher mappings:\")\n",
    "for letter in 'ABCDEFGHIJKLMNOPQRSTUVWXYZ':\n",
    "    print(f\"{letter} → {encrypt_dict[letter]}\")\n",
    "\n",
    "# Test encryption\n",
    "message = \"SECRET MESSAGE\"\n",
    "encrypted = encrypt_message(message, encrypt_dict)\n",
    "decrypted = decrypt_message(encrypted, decrypt_dict)\n",
    "\n",
    "print(f\"\\nOriginal: {message}\")\n",
    "print(f\"Encrypted: {encrypted}\")\n",
    "print(f\"Decrypted: {decrypted}\")"
   ]
  },
  {
   "cell_type": "markdown",
   "id": "b2a8c0c7",
   "metadata": {},
   "source": [
    "### 🎨 Creative Challenge\n",
    "Enhance the cipher system with these features:\n",
    "1. Use numbers in your cipher\n",
    "2. Add special characters\n",
    "3. Create a keyword-based cipher\n",
    "4. Implement frequency analysis"
   ]
  },
  {
   "cell_type": "code",
   "execution_count": null,
   "id": "2f1d2c7a",
   "metadata": {},
   "outputs": [],
   "source": [
    "# Your enhanced cipher system here\n",
    "def your_awesome_cipher():\n",
    "    # Add your improvements here\n",
    "    pass"
   ]
  },
  {
   "cell_type": "markdown",
   "id": "516fac28",
   "metadata": {},
   "source": [
    "## Final Challenge: Code Breaking Game! 🎮\n",
    "\n",
    "Create a game where players try to break each other's codes:"
   ]
  },
  {
   "cell_type": "code",
   "execution_count": null,
   "id": "31cc37a2",
   "metadata": {},
   "outputs": [],
   "source": [
    "def code_breaking_game():\n",
    "    print(\"Welcome to the Code Breaking Game!\")\n",
    "    \n",
    "    # Player 1: Create a secret message\n",
    "    shift = int(input(\"Player 1 - Choose your shift (1-25): \"))\n",
    "    encrypt_dict, decrypt_dict = create_cipher(shift)\n",
    "    \n",
    "    message = input(\"Enter your secret message: \")\n",
    "    encrypted = encrypt_message(message, encrypt_dict)\n",
    "    \n",
    "    print(\"\\n\" * 50)  # Clear screen"
   ]
  }
 ],
 "metadata": {
  "jupytext": {
   "cell_metadata_filter": "-all",
   "main_language": "python",
   "notebook_metadata_filter": "-all"
  }
 },
 "nbformat": 4,
 "nbformat_minor": 5
}
