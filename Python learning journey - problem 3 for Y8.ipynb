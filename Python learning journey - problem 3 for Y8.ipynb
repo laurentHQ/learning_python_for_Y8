{
 "cells": [
  {
   "cell_type": "markdown",
   "id": "6c53845f",
   "metadata": {},
   "source": [
    "Secret Message Decoder 🕵️\n",
    "Introduction to Python String Manipulation"
   ]
  },
  {
   "cell_type": "markdown",
   "id": "4072f5c4",
   "metadata": {},
   "source": [
    "# Welcome, Future Code Breaker! "
   ]
  },
  {
   "cell_type": "markdown",
   "id": "4e45b1fc",
   "metadata": {},
   "source": [
    "In this lesson, we'll learn how to create a secret message decoder using Python. By the end of this notebook, you'll be able to decode secret messages and even create your own! Let's start our journey step by step."
   ]
  },
  {
   "cell_type": "markdown",
   "id": "798fecce",
   "metadata": {},
   "source": [
    "### What We'll Learn:\n",
    "1. How strings work in Python\n",
    "2. How to access individual characters in a string\n",
    "3. How to build a new string character by character\n",
    "4. How to use loops to process strings"
   ]
  },
  {
   "cell_type": "markdown",
   "id": "1d35c25d",
   "metadata": {},
   "source": [
    "# Step 1: Understanding Strings 📝"
   ]
  },
  {
   "cell_type": "markdown",
   "id": "292fcec9",
   "metadata": {},
   "source": [
    "First, let's explore how strings work in Python. Run the cell below to see how we can work with text:"
   ]
  },
  {
   "cell_type": "code",
   "execution_count": null,
   "id": "5805cf60",
   "metadata": {},
   "outputs": [],
   "source": [
    "```python\n",
    "# Let's create a simple message\n",
    "message = \"HELLO\""
   ]
  },
  {
   "cell_type": "code",
   "execution_count": null,
   "id": "19f28c53",
   "metadata": {},
   "outputs": [],
   "source": [
    "# Print each character and its position\n",
    "print(\"Let's look at each character in 'HELLO':\")\n",
    "for position, letter in enumerate(message):\n",
    "    print(f\"Position {position}: {letter}\")\n",
    "```"
   ]
  },
  {
   "cell_type": "markdown",
   "id": "663961a2",
   "metadata": {},
   "source": [
    "### 🤔 Try It Yourself!\n",
    "Change the message to your name and run the cell. What do you notice about the positions of the letters?"
   ]
  },
  {
   "cell_type": "code",
   "execution_count": null,
   "id": "3ca35c51",
   "metadata": {},
   "outputs": [],
   "source": [
    "```python\n",
    "# Your turn! Replace \"YOUR NAME\" with your actual name\n",
    "message = \"YOUR NAME\""
   ]
  },
  {
   "cell_type": "code",
   "execution_count": null,
   "id": "62975fbf",
   "metadata": {},
   "outputs": [],
   "source": [
    "# Print each character and its position\n",
    "for position, letter in enumerate(message):\n",
    "    print(f\"Position {position}: {letter}\")\n",
    "```"
   ]
  },
  {
   "cell_type": "markdown",
   "id": "9f8ce5d2",
   "metadata": {},
   "source": [
    "# Step 2: Reading Text Backwards 🔄"
   ]
  },
  {
   "cell_type": "markdown",
   "id": "93e2f2f4",
   "metadata": {},
   "source": [
    "To decode our secret messages, we need to read text backwards. Let's learn how!"
   ]
  },
  {
   "cell_type": "code",
   "execution_count": null,
   "id": "c20530ac",
   "metadata": {},
   "outputs": [],
   "source": [
    "```python\n",
    "message = \"HELLO\""
   ]
  },
  {
   "cell_type": "code",
   "execution_count": null,
   "id": "5feebc9f",
   "metadata": {},
   "outputs": [],
   "source": [
    "# Method 1: Using a reverse loop\n",
    "print(\"Reading backwards using a loop:\")\n",
    "for i in range(len(message)-1, -1, -1):\n",
    "    print(message[i], end='')\n",
    "print()  # This adds a new line"
   ]
  },
  {
   "cell_type": "code",
   "execution_count": null,
   "id": "fd9632fb",
   "metadata": {},
   "outputs": [],
   "source": [
    "# Method 2: Using string slicing\n",
    "print(\"Reading backwards using slicing:\")\n",
    "print(message[::-1])\n",
    "```"
   ]
  },
  {
   "cell_type": "markdown",
   "id": "6a41c98c",
   "metadata": {},
   "source": [
    "### 🎯 Mini Challenge\n",
    "Can you figure out what these secret messages say?\n",
    "1. \"GNIDOC\"\n",
    "2. \"NUF\""
   ]
  },
  {
   "cell_type": "markdown",
   "id": "39ed08e8",
   "metadata": {},
   "source": [
    "Try decoding them using the code below:"
   ]
  },
  {
   "cell_type": "code",
   "execution_count": null,
   "id": "3e373daf",
   "metadata": {},
   "outputs": [],
   "source": [
    "```python\n",
    "# Write your decoding code here\n",
    "secret_message = \"GNIDOC\"\n",
    "decoded_message = secret_message[::-1]\n",
    "print(f\"The secret message '{secret_message}' decodes to: {decoded_message}\")"
   ]
  },
  {
   "cell_type": "code",
   "execution_count": null,
   "id": "609d026b",
   "metadata": {},
   "outputs": [],
   "source": [
    "# Try the second message too!\n",
    "```"
   ]
  },
  {
   "cell_type": "markdown",
   "id": "b9ef69fc",
   "metadata": {},
   "source": [
    "# Step 3: Building Our Decoder Function 🛠️"
   ]
  },
  {
   "cell_type": "markdown",
   "id": "7fe23e1b",
   "metadata": {},
   "source": [
    "Now let's create a function that can decode any secret message:"
   ]
  },
  {
   "cell_type": "code",
   "execution_count": null,
   "id": "224bb795",
   "metadata": {
    "lines_to_next_cell": 1
   },
   "outputs": [],
   "source": [
    "```python\n",
    "def decode_message(secret):\n",
    "    \"\"\"\n",
    "    This function takes a secret message and returns the decoded version\n",
    "    \"\"\"\n",
    "    decoded = \"\"  # Start with an empty string\n",
    "    \n",
    "    # Add each letter from the end to the beginning\n",
    "    for letter in secret[::-1]:\n",
    "        decoded += letter\n",
    "    \n",
    "    return decoded"
   ]
  },
  {
   "cell_type": "code",
   "execution_count": null,
   "id": "2da25971",
   "metadata": {},
   "outputs": [],
   "source": [
    "# Let's test our function\n",
    "test_message = \"TERCES POT\"\n",
    "decoded = decode_message(test_message)\n",
    "print(f\"Secret message: {test_message}\")\n",
    "print(f\"Decoded message: {decoded}\")\n",
    "```"
   ]
  },
  {
   "cell_type": "markdown",
   "id": "a03c4466",
   "metadata": {},
   "source": [
    "## 🌟 Your Turn - Creating Secret Messages!"
   ]
  },
  {
   "cell_type": "markdown",
   "id": "171b9732",
   "metadata": {},
   "source": [
    "Now it's your turn to create and decode secret messages. Use the cells below:"
   ]
  },
  {
   "cell_type": "code",
   "execution_count": null,
   "id": "c7129cfb",
   "metadata": {},
   "outputs": [],
   "source": [
    "```python\n",
    "# 1. Create your own secret message by reversing a normal message\n",
    "normal_message = \"YOUR MESSAGE HERE\"\n",
    "secret_message = normal_message[::-1]\n",
    "print(f\"Your secret message is: {secret_message}\")"
   ]
  },
  {
   "cell_type": "code",
   "execution_count": null,
   "id": "c0f8ac23",
   "metadata": {},
   "outputs": [],
   "source": [
    "# 2. Try decoding it!\n",
    "decoded = decode_message(secret_message)\n",
    "print(f\"Decoded message: {decoded}\")\n",
    "```"
   ]
  },
  {
   "cell_type": "markdown",
   "id": "92f0c833",
   "metadata": {},
   "source": [
    "# Final Challenge: Message Exchange! 🎮"
   ]
  },
  {
   "cell_type": "markdown",
   "id": "a40b1230",
   "metadata": {},
   "source": [
    "Work with a partner and try these activities:"
   ]
  },
  {
   "cell_type": "markdown",
   "id": "e33b9ad7",
   "metadata": {},
   "source": [
    "1. Create a secret message for your partner\n",
    "2. Exchange messages\n",
    "3. Try to decode each other's messages\n",
    "4. Verify if you decoded them correctly!"
   ]
  },
  {
   "cell_type": "code",
   "execution_count": null,
   "id": "e9fde1fd",
   "metadata": {},
   "outputs": [],
   "source": [
    "```python\n",
    "# Create your secret message here\n",
    "my_message = \"WRITE YOUR MESSAGE\"\n",
    "secret_for_friend = my_message[::-1]\n",
    "print(f\"Give this secret message to your friend: {secret_for_friend}\")"
   ]
  },
  {
   "cell_type": "code",
   "execution_count": null,
   "id": "86c1b3fe",
   "metadata": {},
   "outputs": [],
   "source": [
    "# Decode your friend's message here\n",
    "friends_secret = \"PASTE YOUR FRIEND'S MESSAGE\"\n",
    "decoded_friend_message = decode_message(friends_secret)\n",
    "print(f\"Your friend's message says: {decoded_friend_message}\")\n",
    "```"
   ]
  },
  {
   "cell_type": "markdown",
   "id": "e7812ab9",
   "metadata": {},
   "source": [
    "# Bonus: Advanced Decoder! 🚀"
   ]
  },
  {
   "cell_type": "markdown",
   "id": "2158ca0f",
   "metadata": {},
   "source": [
    "For an extra challenge, try creating a decoder that can handle spaces and punctuation:"
   ]
  },
  {
   "cell_type": "code",
   "execution_count": null,
   "id": "b372e855",
   "metadata": {
    "lines_to_next_cell": 1
   },
   "outputs": [],
   "source": [
    "```python\n",
    "def advanced_decode(secret):\n",
    "    \"\"\"\n",
    "    An advanced decoder that handles spaces and punctuation\n",
    "    \"\"\"\n",
    "    decoded = \"\"\n",
    "    for letter in secret[::-1]:\n",
    "        decoded += letter\n",
    "    return decoded"
   ]
  },
  {
   "cell_type": "code",
   "execution_count": null,
   "id": "375cdbec",
   "metadata": {},
   "outputs": [],
   "source": [
    "# Test with a more complex message\n",
    "complex_message = \"!GNIDOC EVOL I\"\n",
    "decoded_complex = advanced_decode(complex_message)\n",
    "print(f\"Complex secret: {complex_message}\")\n",
    "print(f\"Decoded message: {decoded_complex}\")\n",
    "```"
   ]
  },
  {
   "cell_type": "markdown",
   "id": "6f838ff6",
   "metadata": {},
   "source": [
    "### 🎨 Creative Challenge\n",
    "Can you modify the decoder to:\n",
    "1. Handle lowercase and uppercase letters?\n",
    "2. Ignore spaces when decoding?\n",
    "3. Add your own special decoding rules?"
   ]
  },
  {
   "cell_type": "markdown",
   "id": "1267c0d0",
   "metadata": {},
   "source": [
    "Try your ideas in the cell below:"
   ]
  },
  {
   "cell_type": "code",
   "execution_count": null,
   "id": "f55c54e7",
   "metadata": {
    "lines_to_next_cell": 1
   },
   "outputs": [],
   "source": [
    "```python\n",
    "# Your creative decoder here!\n",
    "def creative_decode(secret):\n",
    "    # Add your code here\n",
    "    pass"
   ]
  },
  {
   "cell_type": "code",
   "execution_count": null,
   "id": "c9e37ddf",
   "metadata": {},
   "outputs": [],
   "source": [
    "# Test your creative decoder\n",
    "test_message = \"Your test message here\"\n",
    "result = creative_decode(test_message)\n",
    "print(f\"Result: {result}\")\n",
    "```"
   ]
  },
  {
   "cell_type": "markdown",
   "id": "465fc650",
   "metadata": {},
   "source": [
    "# Congratulations! 🎉"
   ]
  },
  {
   "cell_type": "markdown",
   "id": "a68b6141",
   "metadata": {},
   "source": [
    "You've completed the Secret Message Decoder lesson! You can now:\n",
    "- Understand how strings work in Python\n",
    "- Read text backwards using different methods\n",
    "- Create and decode secret messages\n",
    "- Build your own decoder functions"
   ]
  },
  {
   "cell_type": "markdown",
   "id": "b900c94f",
   "metadata": {},
   "source": [
    "Remember: The best way to learn coding is by experimenting and trying new things. Don't be afraid to modify the code and see what happens!"
   ]
  }
 ],
 "metadata": {
  "jupytext": {
   "cell_metadata_filter": "-all",
   "main_language": "python",
   "notebook_metadata_filter": "-all"
  },
  "language_info": {
   "name": "python"
  }
 },
 "nbformat": 4,
 "nbformat_minor": 5
}
