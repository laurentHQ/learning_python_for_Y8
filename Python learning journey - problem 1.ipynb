{
 "cells": [
  {
   "cell_type": "markdown",
   "id": "7da79875",
   "metadata": {
    "lines_to_next_cell": 0
   },
   "source": [
    "# Python Programming Journey - Year 8\n",
    "## A Step-by-Step Guide to Building Python Programs\n",
    "\n",
    "### How to use this notebook:\n",
    "1. Open this in Google Colab\n",
    "2. Each section contains:\n",
    "   - Learning objectives\n",
    "   - Example code to study\n",
    "   - Tasks to complete\n",
    "   - Challenge extensions\n",
    "3. Run each cell with the ▶️ button or press Shift+Enter\n",
    "4. Write your code in the provided code cells\n",
    "5. Save your work regularly\n",
    "\n",
    "## 🎮 Problem 1: Number Guessing Game\n",
    "### Learning Objectives:\n",
    "- Understanding basic Python syntax\n",
    "- Working with variables and user input\n",
    "- Using while loops and if statements\n",
    "- Implementing basic game logic\n",
    "\n",
    "### 1.1 Study the Example"
   ]
  },
  {
   "cell_type": "code",
   "execution_count": null,
   "id": "daa5863f",
   "metadata": {},
   "outputs": [],
   "source": [
    "# Example of a simple number checker\n",
    "import random\n",
    "\n",
    "# Generate a random number between 1 and 10\n",
    "secret = random.randint(1, 10)\n",
    "\n",
    "# Get one guess from the user\n",
    "guess = int(input(\"Guess the number (1-10): \"))\n",
    "\n",
    "if guess == secret:\n",
    "    print(\"You got it!\")\n",
    "else:\n",
    "    print(f\"Sorry, it was {secret}\")\n",
    "\n",
    "# Run this cell to try the simple version"
   ]
  },
  {
   "cell_type": "markdown",
   "id": "5b6971e6",
   "metadata": {
    "lines_to_next_cell": 0
   },
   "source": [
    "### 1.2 Your First Task"
   ]
  },
  {
   "cell_type": "code",
   "execution_count": null,
   "id": "830ae076",
   "metadata": {},
   "outputs": [],
   "source": [
    "# Task: Complete the number guessing game\n",
    "# Requirements:\n",
    "# 1. Number should be between 1 and 100\n",
    "# 2. Player gets 7 attempts\n",
    "# 3. Tell player if guess is too high or too low\n",
    "# 4. Keep track of attempts used\n",
    "\n",
    "import random\n",
    "\n",
    "def number_guessing_game():\n",
    "    # Your code here\n",
    "    pass  # Delete this line when you start coding\n",
    "\n",
    "# Test your game\n",
    "number_guessing_game()"
   ]
  },
  {
   "cell_type": "markdown",
   "id": "7766360e",
   "metadata": {
    "lines_to_next_cell": 0
   },
   "source": [
    "### 1.3 Challenge Extension"
   ]
  },
  {
   "cell_type": "code",
   "execution_count": null,
   "id": "86208e01",
   "metadata": {},
   "outputs": [],
   "source": [
    "# Challenge: Improve the game\n",
    "# Add these features:\n",
    "# 1. Ask if player wants to play again\n",
    "# 2. Keep track of high score (least attempts)\n",
    "# 3. Add difficulty levels (easy: 1-50, hard: 1-200)\n",
    "\n",
    "# Your improved version here"
   ]
  },
  {
   "cell_type": "markdown",
   "id": "a4f241ba",
   "metadata": {
    "lines_to_next_cell": 0
   },
   "source": [
    "## 🌡️ Problem 2: Temperature Converter\n",
    "### Learning Objectives:\n",
    "- Creating functions\n",
    "- Input validation\n",
    "- Mathematical operations\n",
    "- Error handling\n",
    "\n",
    "### 2.1 Study the Example"
   ]
  },
  {
   "cell_type": "code",
   "execution_count": null,
   "id": "d463e216",
   "metadata": {},
   "outputs": [],
   "source": [
    "# Example of a simple Celsius to Fahrenheit converter\n",
    "def celsius_to_fahrenheit(celsius):\n",
    "    fahrenheit = (celsius * 9/5) + 32\n",
    "    return round(fahrenheit, 2)\n",
    "\n",
    "# Test the function\n",
    "temp = float(input(\"Enter temperature in Celsius: \"))\n",
    "result = celsius_to_fahrenheit(temp)\n",
    "print(f\"{temp}°C = {result}°F\")"
   ]
  },
  {
   "cell_type": "markdown",
   "id": "6765564a",
   "metadata": {
    "lines_to_next_cell": 0
   },
   "source": [
    "### 2.2 Your Task"
   ]
  },
  {
   "cell_type": "code",
   "execution_count": null,
   "id": "08d935dc",
   "metadata": {},
   "outputs": [],
   "source": [
    "# Task: Create a complete temperature converter\n",
    "# Requirements:\n",
    "# 1. Convert between C, F, and K\n",
    "# 2. Handle invalid inputs\n",
    "# 3. Round results to 2 decimal places\n",
    "# 4. Include input validation\n",
    "\n",
    "def convert_temperature(value, from_unit, to_unit):\n",
    "    # Your code here\n",
    "    pass\n",
    "\n",
    "# Example test cases:\n",
    "test_cases = [\n",
    "    (0, 'C', 'F'),    # Should be 32.0\n",
    "    (98.6, 'F', 'C'), # Should be 37.0\n",
    "    (300, 'K', 'C'),  # Should be 26.85\n",
    "]\n",
    "\n",
    "# Test your function\n",
    "for value, from_unit, to_unit in test_cases:\n",
    "    result = convert_temperature(value, from_unit, to_unit)\n",
    "    print(f\"{value}°{from_unit} = {result}°{to_unit}\")"
   ]
  },
  {
   "cell_type": "markdown",
   "id": "41947e52",
   "metadata": {
    "lines_to_next_cell": 0
   },
   "source": [
    "### 2.3 Challenge Extension"
   ]
  },
  {
   "cell_type": "code",
   "execution_count": null,
   "id": "1c83f8c8",
   "metadata": {},
   "outputs": [],
   "source": [
    "# Challenge: Create a temperature converter interface\n",
    "# Add these features:\n",
    "# 1. Menu for selecting conversion type\n",
    "# 2. Continuous conversion until user quits\n",
    "# 3. History of conversions\n",
    "\n",
    "# Your improved version here"
   ]
  },
  {
   "cell_type": "markdown",
   "id": "d6f1dcc5",
   "metadata": {
    "lines_to_next_cell": 0
   },
   "source": [
    "## 📊 Problem 3: Word Statistics\n",
    "### Learning Objectives:\n",
    "- String manipulation\n",
    "- Using dictionaries\n",
    "- Working with loops\n",
    "- Basic statistics\n",
    "\n",
    "### 3.1 Study the Example"
   ]
  },
  {
   "cell_type": "code",
   "execution_count": null,
   "id": "610f3825",
   "metadata": {},
   "outputs": [],
   "source": [
    "# Example of basic text analysis\n",
    "text = \"Hello World\"\n",
    "print(f\"Length: {len(text)}\")\n",
    "print(f\"Words: {len(text.split())}\")\n",
    "print(f\"Uppercase: {text.upper()}\")"
   ]
  },
  {
   "cell_type": "markdown",
   "id": "25df9162",
   "metadata": {
    "lines_to_next_cell": 0
   },
   "source": [
    "### 3.2 Your Task"
   ]
  },
  {
   "cell_type": "code",
   "execution_count": null,
   "id": "e2315942",
   "metadata": {},
   "outputs": [],
   "source": [
    "# Task: Create a text analysis function\n",
    "# Requirements:\n",
    "# 1. Count total words\n",
    "# 2. Calculate average word length\n",
    "# 3. Find most common letter\n",
    "# 4. Count vowels and consonants\n",
    "\n",
    "def analyze_text(text):\n",
    "    # Your code here\n",
    "    pass\n",
    "\n",
    "# Test your function\n",
    "sample_text = \"The quick brown fox jumps over the lazy dog!\"\n",
    "results = analyze_text(sample_text)\n",
    "# Add code to print results"
   ]
  },
  {
   "cell_type": "markdown",
   "id": "95d20afc",
   "metadata": {
    "lines_to_next_cell": 0
   },
   "source": [
    "### 3.3 Challenge Extension"
   ]
  },
  {
   "cell_type": "code",
   "execution_count": null,
   "id": "38c81654",
   "metadata": {},
   "outputs": [],
   "source": [
    "# Challenge: Enhance the text analyzer\n",
    "# Add these features:\n",
    "# 1. Identify palindromes\n",
    "# 2. Count punctuation marks\n",
    "# 3. Find longest and shortest words\n",
    "\n",
    "# Your improved version here"
   ]
  },
  {
   "cell_type": "markdown",
   "id": "ef64e4e5",
   "metadata": {
    "lines_to_next_cell": 0
   },
   "source": [
    "## 🛒 Problem 4: Shopping List Manager\n",
    "### Learning Objectives:\n",
    "- Object-Oriented Programming (OOP)\n",
    "- File handling\n",
    "- Data persistence\n",
    "- User interface design\n",
    "\n",
    "### 4.1 Study the Example"
   ]
  },
  {
   "cell_type": "code",
   "execution_count": null,
   "id": "c15f4b23",
   "metadata": {},
   "outputs": [],
   "source": [
    "# Example of a basic shopping list\n",
    "shopping_list = []\n",
    "\n",
    "def add_item(item):\n",
    "    shopping_list.append(item)\n",
    "    print(f\"Added: {item}\")\n",
    "\n",
    "def show_list():\n",
    "    for item in shopping_list:\n",
    "        print(f\"- {item}\")\n",
    "\n",
    "# Test the basic functions\n",
    "add_item(\"Apples\")\n",
    "add_item(\"Bread\")\n",
    "show_list()"
   ]
  },
  {
   "cell_type": "markdown",
   "id": "96488db9",
   "metadata": {
    "lines_to_next_cell": 0
   },
   "source": [
    "### 4.2 Your Task"
   ]
  },
  {
   "cell_type": "code",
   "execution_count": null,
   "id": "9460d20e",
   "metadata": {},
   "outputs": [],
   "source": [
    "# Task: Create a Shopping List class\n",
    "# Requirements:\n",
    "# 1. Add items with quantities\n",
    "# 2. Remove items\n",
    "# 3. Update quantities\n",
    "# 4. Save to file\n",
    "# 5. Load from file\n",
    "\n",
    "class ShoppingList:\n",
    "    def __init__(self):\n",
    "        # Your code here\n",
    "        pass\n",
    "\n",
    "# Test your shopping list\n",
    "my_list = ShoppingList()\n",
    "# Add your test code here"
   ]
  },
  {
   "cell_type": "markdown",
   "id": "a6d3ec9f",
   "metadata": {
    "lines_to_next_cell": 0
   },
   "source": [
    "### 4.3 Challenge Extension"
   ]
  },
  {
   "cell_type": "code",
   "execution_count": null,
   "id": "e62b7dd6",
   "metadata": {},
   "outputs": [],
   "source": [
    "# Challenge: Enhance the shopping list\n",
    "# Add these features:\n",
    "# 1. Categories for items\n",
    "# 2. Price tracking\n",
    "# 3. Budget management\n",
    "# 4. Shopping history\n",
    "\n",
    "# Your improved version here"
   ]
  },
  {
   "cell_type": "markdown",
   "id": "993a90c1",
   "metadata": {
    "lines_to_next_cell": 0
   },
   "source": [
    "## 📝 Problem 5: Quiz Game\n",
    "### Learning Objectives:\n",
    "- Combining all previous concepts\n",
    "- Random selection\n",
    "- Score tracking\n",
    "- Program organization\n",
    "\n",
    "### 5.1 Study the Example"
   ]
  },
  {
   "cell_type": "code",
   "execution_count": null,
   "id": "ed6cb5d4",
   "metadata": {},
   "outputs": [],
   "source": [
    "# Example of a simple quiz question\n",
    "questions = {\n",
    "    \"What is the capital of France?\": \"Paris\"\n",
    "}\n",
    "\n",
    "def ask_question(question, correct_answer):\n",
    "    answer = input(question + \" \")\n",
    "    if answer.lower() == correct_answer.lower():\n",
    "        print(\"Correct!\")\n",
    "        return 1\n",
    "    else:\n",
    "        print(f\"Sorry, the answer was {correct_answer}\")\n",
    "        return 0\n",
    "\n",
    "# Test the function\n",
    "score = ask_question(\"What is the capital of France?\", \"Paris\")\n",
    "print(f\"Score: {score}\")"
   ]
  },
  {
   "cell_type": "markdown",
   "id": "59762f47",
   "metadata": {
    "lines_to_next_cell": 0
   },
   "source": [
    "### 5.2 Your Task"
   ]
  },
  {
   "cell_type": "code",
   "execution_count": null,
   "id": "5a59e151",
   "metadata": {},
   "outputs": [],
   "source": [
    "# Task: Create a complete quiz game\n",
    "# Requirements:\n",
    "# 1. Multiple questions in dictionary\n",
    "# 2. Random question selection\n",
    "# 3. Score tracking\n",
    "# 4. Percentage calculation\n",
    "# 5. Final results display\n",
    "\n",
    "def create_quiz():\n",
    "    # Your code here\n",
    "    pass\n",
    "\n",
    "# Run your quiz\n",
    "create_quiz()"
   ]
  },
  {
   "cell_type": "markdown",
   "id": "59987e64",
   "metadata": {
    "lines_to_next_cell": 0
   },
   "source": [
    "### 5.3 Challenge Extension"
   ]
  },
  {
   "cell_type": "code",
   "execution_count": null,
   "id": "ff2c43c4",
   "metadata": {},
   "outputs": [],
   "source": [
    "# Challenge: Enhance the quiz game\n",
    "# Add these features:\n",
    "# 1. Multiple choice questions\n",
    "# 2. Different difficulty levels\n",
    "# 3. Time limits for questions\n",
    "# 4. High score system\n",
    "# 5. Category selection\n",
    "\n",
    "# Your improved version here"
   ]
  },
  {
   "cell_type": "markdown",
   "id": "f2b4b06e",
   "metadata": {},
   "source": [
    "## 📚 Additional Resources\n",
    "- Python Documentation: https://docs.python.org/3/\n",
    "- Google Colab Tutorial: https://colab.research.google.com/\n",
    "- Python Beginner's Guide: https://wiki.python.org/moin/BeginnersGuide\n",
    "\n",
    "## 🎯 Final Project Ideas\n",
    "1. Combine multiple concepts to create:\n",
    "   - A shop management system\n",
    "   - A student grade tracker\n",
    "   - A simple text-based game\n",
    "   - A personal diary system\n",
    "\n",
    "## ✅ Assessment Checklist\n",
    "For each program, make sure you have:\n",
    "- [  ] Written clear comments\n",
    "- [  ] Handled invalid inputs\n",
    "- [  ] Tested with different cases\n",
    "- [  ] Added error messages\n",
    "- [  ] Used meaningful variable names\n",
    "- [  ] Formatted code consistently"
   ]
  }
 ],
 "metadata": {
  "jupytext": {
   "cell_metadata_filter": "-all",
   "main_language": "python",
   "notebook_metadata_filter": "-all"
  }
 },
 "nbformat": 4,
 "nbformat_minor": 5
}
