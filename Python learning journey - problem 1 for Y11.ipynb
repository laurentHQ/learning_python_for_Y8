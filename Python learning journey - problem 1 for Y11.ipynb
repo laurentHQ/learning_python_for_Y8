{
 "cells": [
  {
   "cell_type": "markdown",
   "id": "9ddc7a72",
   "metadata": {},
   "source": [
    "# Data Analysis and Visualization with Python\n",
    "## Year 11 Advanced Programming\n",
    "\n",
    "### 📚 Overview\n",
    "In this notebook, you'll learn how to analyze and visualize real-world data using Python. We'll work with a dataset about global temperature changes and create meaningful insights through data analysis.\n",
    "\n",
    "### 🎯 Learning Objectives\n",
    "- Work with Pandas DataFrames\n",
    "- Clean and process data\n",
    "- Perform statistical analysis\n",
    "- Create professional visualizations\n",
    "- Build interactive dashboard elements\n",
    "\n",
    "### 📋 Prerequisites\n",
    "First, let's install and import required libraries:"
   ]
  },
  {
   "cell_type": "code",
   "execution_count": null,
   "id": "1431d46c",
   "metadata": {},
   "outputs": [],
   "source": [
    "# Install required libraries\n",
    "!pip install pandas numpy matplotlib seaborn plotly\n",
    "\n",
    "# Import libraries\n",
    "import pandas as pd\n",
    "import numpy as np\n",
    "import matplotlib.pyplot as plt\n",
    "import seaborn as sns\n",
    "import plotly.express as px"
   ]
  },
  {
   "cell_type": "markdown",
   "id": "93f47da8",
   "metadata": {},
   "source": [
    "### 🌡️ Step 1: Data Loading and Initial Exploration\n",
    "#### Concepts Covered:\n",
    "- Reading CSV files with Pandas\n",
    "- Basic DataFrame operations\n",
    "- Data inspection methods\n",
    "- Understanding data structure"
   ]
  },
  {
   "cell_type": "code",
   "execution_count": null,
   "id": "05bcd957",
   "metadata": {},
   "outputs": [],
   "source": [
    "# Download sample temperature dataset\n",
    "!wget https://raw.githubusercontent.com/datasets/global-temp/master/data/annual.csv -O temperature.csv\n",
    "\n",
    "# Task 1.1: Load the dataset\n",
    "def load_and_examine_data(filename):\n",
    "    \"\"\"\n",
    "    Load the CSV file and perform initial examination\n",
    "    Return the DataFrame and basic information\n",
    "    \"\"\"\n",
    "    # Your code here\n",
    "    # 1. Read the CSV file\n",
    "    # 2. Display first few rows\n",
    "    # 3. Get basic information about the dataset\n",
    "    # 4. Check for missing values\n",
    "    pass\n",
    "\n",
    "# Example usage:\n",
    "df = load_and_examine_data('temperature.csv')"
   ]
  },
  {
   "cell_type": "markdown",
   "id": "e5c39e3d",
   "metadata": {},
   "source": [
    "#### 💡 Challenge 1:\n",
    "Create a function that provides a comprehensive summary of the dataset including:\n",
    "- Number of rows and columns\n",
    "- Data types of each column\n",
    "- Basic statistical measures\n",
    "- Missing value counts"
   ]
  },
  {
   "cell_type": "code",
   "execution_count": null,
   "id": "d27a0def",
   "metadata": {},
   "outputs": [],
   "source": [
    "# Your challenge code here\n",
    "def create_data_summary(df):\n",
    "    \"\"\"\n",
    "    Create a comprehensive data summary\n",
    "    \"\"\"\n",
    "    pass"
   ]
  },
  {
   "cell_type": "markdown",
   "id": "5b29495a",
   "metadata": {},
   "source": [
    "### 📊 Step 2: Data Cleaning and Preprocessing\n",
    "#### Concepts Covered:\n",
    "- Handling missing values\n",
    "- Data type conversion\n",
    "- Creating new features\n",
    "- Data filtering"
   ]
  },
  {
   "cell_type": "code",
   "execution_count": null,
   "id": "93efe603",
   "metadata": {},
   "outputs": [],
   "source": [
    "# Task 2.1: Clean and preprocess the data\n",
    "def clean_temperature_data(df):\n",
    "    \"\"\"\n",
    "    Clean the temperature dataset and prepare it for analysis\n",
    "    \"\"\"\n",
    "    # Your code here\n",
    "    # 1. Handle any missing values\n",
    "    # 2. Convert date column to datetime\n",
    "    # 3. Create decade column\n",
    "    # 4. Filter out any invalid temperatures\n",
    "    pass\n",
    "\n",
    "# Example usage:\n",
    "clean_df = clean_temperature_data(df)"
   ]
  },
  {
   "cell_type": "markdown",
   "id": "614e72bf",
   "metadata": {},
   "source": [
    "#### 💡 Challenge 2:\n",
    "Add more sophisticated preprocessing:\n",
    "- Create seasonal averages\n",
    "- Handle outliers using IQR method\n",
    "- Add temperature change from previous year\n",
    "- Create temperature categories (Cold, Moderate, Hot)"
   ]
  },
  {
   "cell_type": "code",
   "execution_count": null,
   "id": "99ceae55",
   "metadata": {},
   "outputs": [],
   "source": [
    "# Your challenge code here\n",
    "def advanced_preprocessing(df):\n",
    "    \"\"\"\n",
    "    Perform advanced data preprocessing\n",
    "    \"\"\"\n",
    "    pass"
   ]
  },
  {
   "cell_type": "markdown",
   "id": "31ab97fa",
   "metadata": {},
   "source": [
    "### 📈 Step 3: Basic Statistical Analysis\n",
    "#### Concepts Covered:\n",
    "- Descriptive statistics\n",
    "- Groupby operations\n",
    "- Rolling averages\n",
    "- Correlation analysis"
   ]
  },
  {
   "cell_type": "code",
   "execution_count": null,
   "id": "46832f67",
   "metadata": {},
   "outputs": [],
   "source": [
    "# Task 3.1: Perform statistical analysis\n",
    "def analyze_temperature_trends(df):\n",
    "    \"\"\"\n",
    "    Analyze temperature trends over time\n",
    "    \"\"\"\n",
    "    # Your code here\n",
    "    # 1. Calculate yearly averages\n",
    "    # 2. Compute rolling averages\n",
    "    # 3. Find temperature extremes by decade\n",
    "    # 4. Calculate rate of temperature change\n",
    "    pass\n",
    "\n",
    "# Example usage:\n",
    "analysis_results = analyze_temperature_trends(clean_df)"
   ]
  },
  {
   "cell_type": "markdown",
   "id": "9574b9be",
   "metadata": {},
   "source": [
    "#### 💡 Challenge 3:\n",
    "Extend the analysis with:\n",
    "- Variance analysis by decade\n",
    "- Trend detection using linear regression\n",
    "- Seasonal decomposition\n",
    "- Statistical hypothesis testing"
   ]
  },
  {
   "cell_type": "code",
   "execution_count": null,
   "id": "23f32219",
   "metadata": {},
   "outputs": [],
   "source": [
    "# Your challenge code here\n",
    "def advanced_statistical_analysis(df):\n",
    "    \"\"\"\n",
    "    Perform advanced statistical analysis\n",
    "    \"\"\"\n",
    "    pass"
   ]
  },
  {
   "cell_type": "markdown",
   "id": "bcbc37d2",
   "metadata": {},
   "source": [
    "### 🎨 Step 4: Data Visualization\n",
    "#### Concepts Covered:\n",
    "- Different plot types\n",
    "- Customizing visualizations\n",
    "- Multiple subplots\n",
    "- Interactive plotting"
   ]
  },
  {
   "cell_type": "code",
   "execution_count": null,
   "id": "fcf41a5c",
   "metadata": {},
   "outputs": [],
   "source": [
    "# Task 4.1: Create visualization suite\n",
    "def create_temperature_visualizations(df):\n",
    "    \"\"\"\n",
    "    Create a suite of visualizations for temperature data\n",
    "    \"\"\"\n",
    "    # Your code here\n",
    "    # 1. Line plot of temperature over time\n",
    "    # 2. Box plot by decade\n",
    "    # 3. Heatmap of monthly temperatures\n",
    "    # 4. Distribution plot of temperatures\n",
    "    pass\n",
    "\n",
    "# Example usage:\n",
    "create_temperature_visualizations(clean_df)"
   ]
  },
  {
   "cell_type": "markdown",
   "id": "dc463ff0",
   "metadata": {},
   "source": [
    "#### 💡 Challenge 4:\n",
    "Create advanced visualizations:\n",
    "- Animated temperature changes\n",
    "- Interactive plotly dashboard\n",
    "- Custom visualization themes\n",
    "- Multi-variable analysis plots"
   ]
  },
  {
   "cell_type": "code",
   "execution_count": null,
   "id": "9254b363",
   "metadata": {},
   "outputs": [],
   "source": [
    "# Your challenge code here\n",
    "def create_advanced_visualizations(df):\n",
    "    \"\"\"\n",
    "    Create advanced interactive visualizations\n",
    "    \"\"\"\n",
    "    pass"
   ]
  },
  {
   "cell_type": "markdown",
   "id": "5bd6a331",
   "metadata": {},
   "source": [
    "### 📱 Step 5: Building an Interactive Dashboard\n",
    "#### Concepts Covered:\n",
    "- Creating interactive elements\n",
    "- Combining multiple visualizations\n",
    "- User input handling\n",
    "- Dynamic updates"
   ]
  },
  {
   "cell_type": "code",
   "execution_count": null,
   "id": "d3f48f95",
   "metadata": {},
   "outputs": [],
   "source": [
    "# Task 5.1: Create interactive dashboard\n",
    "def create_temperature_dashboard(df):\n",
    "    \"\"\"\n",
    "    Create an interactive dashboard for temperature analysis\n",
    "    \"\"\"\n",
    "    # Your code here\n",
    "    # 1. Create year range selector\n",
    "    # 2. Add temperature trend plot\n",
    "    # 3. Include statistical summary\n",
    "    # 4. Add interactive features\n",
    "    pass\n",
    "\n",
    "# Example usage:\n",
    "dashboard = create_temperature_dashboard(clean_df)"
   ]
  },
  {
   "cell_type": "markdown",
   "id": "5782dd7d",
   "metadata": {},
   "source": [
    "#### 💡 Challenge 5:\n",
    "Enhance the dashboard with:\n",
    "- Multiple view options\n",
    "- Custom filtering capabilities\n",
    "- Export functionality\n",
    "- Predictive features"
   ]
  },
  {
   "cell_type": "code",
   "execution_count": null,
   "id": "f7743978",
   "metadata": {},
   "outputs": [],
   "source": [
    "# Your challenge code here\n",
    "def create_advanced_dashboard(df):\n",
    "    \"\"\"\n",
    "    Create an advanced interactive dashboard\n",
    "    \"\"\"\n",
    "    pass"
   ]
  },
  {
   "cell_type": "markdown",
   "id": "75c5f348",
   "metadata": {},
   "source": [
    "### 🎓 Final Project\n",
    "Combine all steps to create a comprehensive climate analysis tool:\n",
    "1. Load and clean temperature data\n",
    "2. Perform statistical analysis\n",
    "3. Create visualizations\n",
    "4. Build interactive dashboard\n",
    "5. Generate automated reports"
   ]
  },
  {
   "cell_type": "code",
   "execution_count": null,
   "id": "450c88bf",
   "metadata": {},
   "outputs": [],
   "source": [
    "# Main execution\n",
    "def main():\n",
    "    # Load data\n",
    "    df = load_and_examine_data('temperature.csv')\n",
    "    \n",
    "    # Clean data\n",
    "    clean_df = clean_temperature_data(df)\n",
    "    \n",
    "    # Analyze trends\n",
    "    analysis = analyze_temperature_trends(clean_df)\n",
    "    \n",
    "    # Create visualizations\n",
    "    visualizations = create_temperature_visualizations(clean_df)\n",
    "    \n",
    "    # Build dashboard\n",
    "    dashboard = create_temperature_dashboard(clean_df)\n",
    "    \n",
    "    return dashboard\n",
    "\n",
    "# Run the analysis\n",
    "if __name__ == \"__main__\":\n",
    "    main()"
   ]
  },
  {
   "cell_type": "markdown",
   "id": "3420040e",
   "metadata": {},
   "source": [
    "### 📚 Additional Resources\n",
    "- Pandas Documentation: https://pandas.pydata.org/docs/\n",
    "- Plotly Documentation: https://plotly.com/python/\n",
    "- Seaborn Tutorial: https://seaborn.pydata.org/tutorial.html\n",
    "- Data Science Concepts: https://www.kaggle.com/learn/data-science\n",
    "\n",
    "### ✅ Assessment Criteria\n",
    "Your solution will be evaluated based on:\n",
    "1. Code Quality\n",
    "   - [ ] Clear and consistent style\n",
    "   - [ ] Proper documentation\n",
    "   - [ ] Efficient implementation\n",
    "   \n",
    "2. Analysis Quality\n",
    "   - [ ] Depth of insights\n",
    "   - [ ] Statistical rigor\n",
    "   - [ ] Proper handling of edge cases\n",
    "   \n",
    "3. Visualization Quality\n",
    "   - [ ] Clear and informative plots\n",
    "   - [ ] Professional appearance\n",
    "   - [ ] Interactive features\n",
    "   \n",
    "4. Documentation\n",
    "   - [ ] Clear explanations\n",
    "   - [ ] Usage instructions\n",
    "   - [ ] Result interpretation"
   ]
  }
 ],
 "metadata": {
  "jupytext": {
   "cell_metadata_filter": "-all",
   "main_language": "python",
   "notebook_metadata_filter": "-all"
  }
 },
 "nbformat": 4,
 "nbformat_minor": 5
}
